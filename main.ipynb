{
 "cells": [
  {
   "cell_type": "code",
   "execution_count": null,
   "id": "14d76f60-52bf-44de-b680-766edcbcffc3",
   "metadata": {},
   "outputs": [],
   "source": [
    "import random\n",
    "import pickle\n",
    "\n",
    "import numpy as np\n",
    "import pandas as pd\n",
    "from nltk.tokenize import RegexpTokenizer\n",
    "\n",
    "from tensorflow.keras.models import Sequential, load_model\n",
    "from tensorflow.keras.layers import LSTM, Dense, Activation\n",
    "from tensorflow.keras.optimizers import RMSprop"
   ]
  },
  {
   "cell_type": "code",
   "execution_count": null,
   "id": "1061d699-9971-41ed-8ded-1288168ecf1c",
   "metadata": {},
   "outputs": [],
   "source": [
    "text_data = pd.read_csv(\"Text-Gen/fake_or_real.csv\")"
   ]
  },
  {
   "cell_type": "code",
   "execution_count": null,
   "id": "9dddb1f4-8fc2-41f8-a636-51773adf92e1",
   "metadata": {},
   "outputs": [],
   "source": [
    "text = list(text_data.text.values)\n",
    "combined_text = \" \".join(text)"
   ]
  },
  {
   "cell_type": "code",
   "execution_count": null,
   "id": "a45527bc-1cf5-4b65-ac3e-f61e90ccf804",
   "metadata": {},
   "outputs": [],
   "source": [
    "partial_text = combined_text[:10000]"
   ]
  },
  {
   "cell_type": "code",
   "execution_count": null,
   "id": "2cd2b966-067b-419a-b888-bb255c512dc7",
   "metadata": {},
   "outputs": [],
   "source": [
    "tokenizer = RegexpTokenizer(r\"\\w+\")\n",
    "tokens = tokenizer.tokenize(partial_text.lower())"
   ]
  },
  {
   "cell_type": "code",
   "execution_count": null,
   "id": "7626001d-2be2-45e3-a743-6d47cf5d71a1",
   "metadata": {
    "scrolled": true
   },
   "outputs": [],
   "source": [
    "unique_tokens = np.unique(tokens)\n",
    "unique_token_index = {token : idx for idx, token in enumerate(unique_tokens)}"
   ]
  },
  {
   "cell_type": "code",
   "execution_count": null,
   "id": "577ac55f-0084-4650-9ed8-bacbed18dc17",
   "metadata": {},
   "outputs": [],
   "source": [
    "initial_words = 10\n",
    "input = []\n",
    "next_words = []\n",
    "\n",
    "for i in range(len(tokens) - initial_words):\n",
    "    input.append(tokens[i:i + initial_words])\n",
    "    next_words.append(tokens[i + initial_words])"
   ]
  },
  {
   "cell_type": "code",
   "execution_count": null,
   "id": "9c11089b-df48-4714-87a5-eaa6327ace30",
   "metadata": {},
   "outputs": [],
   "source": [
    "X = np.zeros((len(input), initial_words, len(unique_tokens)), dtype=bool)\n",
    "y = np.zeros((len(next_words), len(unique_tokens)), dtype=bool)"
   ]
  },
  {
   "cell_type": "code",
   "execution_count": null,
   "id": "a16bd497-e20d-441a-818a-d93ecb16ebf1",
   "metadata": {},
   "outputs": [],
   "source": [
    "for i, words in enumerate(input):\n",
    "    for j, word in enumerate(words):\n",
    "        X[i, j, unique_token_index[word]] = 1\n",
    "    y[i, unique_token_index[next_words[i]]] = 1"
   ]
  },
  {
   "cell_type": "code",
   "execution_count": null,
   "id": "bafbc3e9-907c-4665-bb7f-66e7d09f77e9",
   "metadata": {},
   "outputs": [],
   "source": [
    "model = Sequential()\n",
    "model.add(LSTM(128, input_shape=(initial_words, len(unique_tokens)), return_sequences=True))\n",
    "model.add(LSTM(128))\n",
    "model.add(Dense(len(unique_tokens)))\n",
    "model.add(Activation(\"softmax\"))"
   ]
  },
  {
   "cell_type": "code",
   "execution_count": 25,
   "id": "d2128f81-ec3b-402c-a516-670171c58ac6",
   "metadata": {},
   "outputs": [
    {
     "name": "stdout",
     "output_type": "stream",
     "text": [
      "Epoch 1/30\n",
      "\u001b[1m14/14\u001b[0m \u001b[32m━━━━━━━━━━━━━━━━━━━━\u001b[0m\u001b[37m\u001b[0m \u001b[1m1s\u001b[0m 18ms/step - accuracy: 0.0285 - loss: 6.3396 \n",
      "Epoch 2/30\n",
      "\u001b[1m14/14\u001b[0m \u001b[32m━━━━━━━━━━━━━━━━━━━━\u001b[0m\u001b[37m\u001b[0m \u001b[1m0s\u001b[0m 21ms/step - accuracy: 0.0587 - loss: 5.8317\n",
      "Epoch 3/30\n",
      "\u001b[1m14/14\u001b[0m \u001b[32m━━━━━━━━━━━━━━━━━━━━\u001b[0m\u001b[37m\u001b[0m \u001b[1m0s\u001b[0m 22ms/step - accuracy: 0.0615 - loss: 5.7197\n",
      "Epoch 4/30\n",
      "\u001b[1m14/14\u001b[0m \u001b[32m━━━━━━━━━━━━━━━━━━━━\u001b[0m\u001b[37m\u001b[0m \u001b[1m0s\u001b[0m 22ms/step - accuracy: 0.0529 - loss: 5.7684\n",
      "Epoch 5/30\n",
      "\u001b[1m14/14\u001b[0m \u001b[32m━━━━━━━━━━━━━━━━━━━━\u001b[0m\u001b[37m\u001b[0m \u001b[1m0s\u001b[0m 22ms/step - accuracy: 0.0588 - loss: 5.7278\n",
      "Epoch 6/30\n",
      "\u001b[1m14/14\u001b[0m \u001b[32m━━━━━━━━━━━━━━━━━━━━\u001b[0m\u001b[37m\u001b[0m \u001b[1m0s\u001b[0m 22ms/step - accuracy: 0.0558 - loss: 5.6797\n",
      "Epoch 7/30\n",
      "\u001b[1m14/14\u001b[0m \u001b[32m━━━━━━━━━━━━━━━━━━━━\u001b[0m\u001b[37m\u001b[0m \u001b[1m0s\u001b[0m 22ms/step - accuracy: 0.0641 - loss: 5.6183\n",
      "Epoch 8/30\n",
      "\u001b[1m14/14\u001b[0m \u001b[32m━━━━━━━━━━━━━━━━━━━━\u001b[0m\u001b[37m\u001b[0m \u001b[1m0s\u001b[0m 23ms/step - accuracy: 0.0657 - loss: 5.5301\n",
      "Epoch 9/30\n",
      "\u001b[1m14/14\u001b[0m \u001b[32m━━━━━━━━━━━━━━━━━━━━\u001b[0m\u001b[37m\u001b[0m \u001b[1m0s\u001b[0m 23ms/step - accuracy: 0.0745 - loss: 5.3667\n",
      "Epoch 10/30\n",
      "\u001b[1m14/14\u001b[0m \u001b[32m━━━━━━━━━━━━━━━━━━━━\u001b[0m\u001b[37m\u001b[0m \u001b[1m0s\u001b[0m 25ms/step - accuracy: 0.0739 - loss: 5.2385\n",
      "Epoch 11/30\n",
      "\u001b[1m14/14\u001b[0m \u001b[32m━━━━━━━━━━━━━━━━━━━━\u001b[0m\u001b[37m\u001b[0m \u001b[1m0s\u001b[0m 23ms/step - accuracy: 0.0899 - loss: 5.0046\n",
      "Epoch 12/30\n",
      "\u001b[1m14/14\u001b[0m \u001b[32m━━━━━━━━━━━━━━━━━━━━\u001b[0m\u001b[37m\u001b[0m \u001b[1m0s\u001b[0m 25ms/step - accuracy: 0.1091 - loss: 4.6838\n",
      "Epoch 13/30\n",
      "\u001b[1m14/14\u001b[0m \u001b[32m━━━━━━━━━━━━━━━━━━━━\u001b[0m\u001b[37m\u001b[0m \u001b[1m0s\u001b[0m 24ms/step - accuracy: 0.1082 - loss: 4.4911\n",
      "Epoch 14/30\n",
      "\u001b[1m14/14\u001b[0m \u001b[32m━━━━━━━━━━━━━━━━━━━━\u001b[0m\u001b[37m\u001b[0m \u001b[1m0s\u001b[0m 23ms/step - accuracy: 0.1399 - loss: 4.1328\n",
      "Epoch 15/30\n",
      "\u001b[1m14/14\u001b[0m \u001b[32m━━━━━━━━━━━━━━━━━━━━\u001b[0m\u001b[37m\u001b[0m \u001b[1m0s\u001b[0m 22ms/step - accuracy: 0.1540 - loss: 3.8073\n",
      "Epoch 16/30\n",
      "\u001b[1m14/14\u001b[0m \u001b[32m━━━━━━━━━━━━━━━━━━━━\u001b[0m\u001b[37m\u001b[0m \u001b[1m0s\u001b[0m 22ms/step - accuracy: 0.1994 - loss: 3.5514\n",
      "Epoch 17/30\n",
      "\u001b[1m14/14\u001b[0m \u001b[32m━━━━━━━━━━━━━━━━━━━━\u001b[0m\u001b[37m\u001b[0m \u001b[1m0s\u001b[0m 22ms/step - accuracy: 0.2698 - loss: 3.1826\n",
      "Epoch 18/30\n",
      "\u001b[1m14/14\u001b[0m \u001b[32m━━━━━━━━━━━━━━━━━━━━\u001b[0m\u001b[37m\u001b[0m \u001b[1m0s\u001b[0m 25ms/step - accuracy: 0.3610 - loss: 2.7842\n",
      "Epoch 19/30\n",
      "\u001b[1m14/14\u001b[0m \u001b[32m━━━━━━━━━━━━━━━━━━━━\u001b[0m\u001b[37m\u001b[0m \u001b[1m0s\u001b[0m 24ms/step - accuracy: 0.4475 - loss: 2.3561\n",
      "Epoch 20/30\n",
      "\u001b[1m14/14\u001b[0m \u001b[32m━━━━━━━━━━━━━━━━━━━━\u001b[0m\u001b[37m\u001b[0m \u001b[1m0s\u001b[0m 22ms/step - accuracy: 0.5248 - loss: 2.0304\n",
      "Epoch 21/30\n",
      "\u001b[1m14/14\u001b[0m \u001b[32m━━━━━━━━━━━━━━━━━━━━\u001b[0m\u001b[37m\u001b[0m \u001b[1m0s\u001b[0m 23ms/step - accuracy: 0.6418 - loss: 1.7584\n",
      "Epoch 22/30\n",
      "\u001b[1m14/14\u001b[0m \u001b[32m━━━━━━━━━━━━━━━━━━━━\u001b[0m\u001b[37m\u001b[0m \u001b[1m0s\u001b[0m 22ms/step - accuracy: 0.6957 - loss: 1.4680\n",
      "Epoch 23/30\n",
      "\u001b[1m14/14\u001b[0m \u001b[32m━━━━━━━━━━━━━━━━━━━━\u001b[0m\u001b[37m\u001b[0m \u001b[1m0s\u001b[0m 23ms/step - accuracy: 0.8467 - loss: 1.0392\n",
      "Epoch 24/30\n",
      "\u001b[1m14/14\u001b[0m \u001b[32m━━━━━━━━━━━━━━━━━━━━\u001b[0m\u001b[37m\u001b[0m \u001b[1m0s\u001b[0m 23ms/step - accuracy: 0.8486 - loss: 0.9162\n",
      "Epoch 25/30\n",
      "\u001b[1m14/14\u001b[0m \u001b[32m━━━━━━━━━━━━━━━━━━━━\u001b[0m\u001b[37m\u001b[0m \u001b[1m0s\u001b[0m 24ms/step - accuracy: 0.9253 - loss: 0.6853\n",
      "Epoch 26/30\n",
      "\u001b[1m14/14\u001b[0m \u001b[32m━━━━━━━━━━━━━━━━━━━━\u001b[0m\u001b[37m\u001b[0m \u001b[1m0s\u001b[0m 24ms/step - accuracy: 0.9516 - loss: 0.4808\n",
      "Epoch 27/30\n",
      "\u001b[1m14/14\u001b[0m \u001b[32m━━━━━━━━━━━━━━━━━━━━\u001b[0m\u001b[37m\u001b[0m \u001b[1m0s\u001b[0m 23ms/step - accuracy: 0.9540 - loss: 0.4359\n",
      "Epoch 28/30\n",
      "\u001b[1m14/14\u001b[0m \u001b[32m━━━━━━━━━━━━━━━━━━━━\u001b[0m\u001b[37m\u001b[0m \u001b[1m0s\u001b[0m 23ms/step - accuracy: 0.9666 - loss: 0.3291\n",
      "Epoch 29/30\n",
      "\u001b[1m14/14\u001b[0m \u001b[32m━━━━━━━━━━━━━━━━━━━━\u001b[0m\u001b[37m\u001b[0m \u001b[1m0s\u001b[0m 24ms/step - accuracy: 0.9861 - loss: 0.2043\n",
      "Epoch 30/30\n",
      "\u001b[1m14/14\u001b[0m \u001b[32m━━━━━━━━━━━━━━━━━━━━\u001b[0m\u001b[37m\u001b[0m \u001b[1m0s\u001b[0m 23ms/step - accuracy: 0.9662 - loss: 0.2634\n"
     ]
    },
    {
     "data": {
      "text/plain": [
       "<keras.src.callbacks.history.History at 0x17b71e8a0>"
      ]
     },
     "execution_count": 25,
     "metadata": {},
     "output_type": "execute_result"
    }
   ],
   "source": [
    "model.compile(loss=\"categorical_crossentropy\", optimizer=RMSprop(learning_rate=0.01), metrics = [\"accuracy\"])\n",
    "model.fit(X, y, batch_size=128, epochs = 30, shuffle=True)"
   ]
  },
  {
   "cell_type": "markdown",
   "id": "11c23fad-197c-49ea-bb8c-284ec0d53ee7",
   "metadata": {},
   "source": []
  },
  {
   "cell_type": "code",
   "execution_count": null,
   "id": "ca2952de-b15e-45f5-9228-fde11667f0c7",
   "metadata": {},
   "outputs": [],
   "source": [
    "model.save(\"text_gen_model.h5\")"
   ]
  },
  {
   "cell_type": "code",
   "execution_count": null,
   "id": "00c7ebe1-e99d-4d9b-9abd-252de74a443d",
   "metadata": {},
   "outputs": [],
   "source": [
    "model = load_model(\"text_gen_model.h5\")"
   ]
  },
  {
   "cell_type": "code",
   "execution_count": null,
   "id": "2f3bffbc-a9b0-4549-a5af-9da3a947efcf",
   "metadata": {},
   "outputs": [],
   "source": [
    "def predict_next_word(input, best):\n",
    "    input = input.lower()\n",
    "    X = np.zeros((1, initial_words, len(unique_tokens)))\n",
    "    for i, word in enumerate(input.split()):\n",
    "        X[0, i, unique_token_index[word]] = 1\n",
    "\n",
    "    predictions = model.predict(X)[0]\n",
    "    return np.argpartition(predictions, -best)[-best:]"
   ]
  },
  {
   "cell_type": "code",
   "execution_count": 23,
   "id": "6819f361-5758-4a86-bef9-e3a5f97bbb69",
   "metadata": {},
   "outputs": [
    {
     "name": "stdout",
     "output_type": "stream",
     "text": [
      "\u001b[1m1/1\u001b[0m \u001b[32m━━━━━━━━━━━━━━━━━━━━\u001b[0m\u001b[37m\u001b[0m \u001b[1m0s\u001b[0m 156ms/step\n"
     ]
    }
   ],
   "source": [
    "possible = predict_next_word(\"He will have to look into this thing and he\", 5)"
   ]
  },
  {
   "cell_type": "code",
   "execution_count": 24,
   "id": "196babaf-71c5-4594-8a39-760ab7f761a3",
   "metadata": {},
   "outputs": [
    {
     "name": "stdout",
     "output_type": "stream",
     "text": [
      "['principles', 'which', 'with', 'where', 'elect']\n"
     ]
    }
   ],
   "source": [
    "print([unique_tokens[idx] for idx in possible])"
   ]
  },
  {
   "cell_type": "code",
   "execution_count": null,
   "id": "c64d564f-2b55-4d41-9d7c-71ab21c2c8c0",
   "metadata": {},
   "outputs": [],
   "source": [
    "def generate_text(input, length, choices=3):\n",
    "    sequence = input.split()\n",
    "    current_pos = 0\n",
    "    for i in range(length):\n",
    "        sub_sequence = \" \".join(tokenizer.tokenize(\" \".join(sequence).lower())[current_pos:current_pos+initial_words])\n",
    "        try:\n",
    "            choice = unique_tokens[random.choice(predict_next_word(sub_sequence, creativity))]\n",
    "        except:\n",
    "            choice = random.choice(unique_tokens)\n",
    "        sequence.append(choice)\n",
    "        current_pos+=1\n",
    "    return \" \".join(sequence)\n",
    "    "
   ]
  },
  {
   "cell_type": "code",
   "execution_count": 22,
   "id": "4913d0d1-55eb-4db3-a2d2-5803f23c5b9d",
   "metadata": {},
   "outputs": [
    {
     "data": {
      "text/plain": [
       "'I want to see what is possible in this world procedural very pocket tenth made too google election gasoline aboutface federal information original career tape did savage act fairly instant'"
      ]
     },
     "execution_count": 22,
     "metadata": {},
     "output_type": "execute_result"
    }
   ],
   "source": [
    "generate_text(\"I want to see what is possible in this world\", 20, 5)"
   ]
  },
  {
   "cell_type": "code",
   "execution_count": null,
   "id": "8c8c5b19-1da7-4ffb-8a05-3d40fe385260",
   "metadata": {},
   "outputs": [],
   "source": []
  }
 ],
 "metadata": {
  "kernelspec": {
   "display_name": "Python 3 (ipykernel)",
   "language": "python",
   "name": "python3"
  },
  "language_info": {
   "codemirror_mode": {
    "name": "ipython",
    "version": 3
   },
   "file_extension": ".py",
   "mimetype": "text/x-python",
   "name": "python",
   "nbconvert_exporter": "python",
   "pygments_lexer": "ipython3",
   "version": "3.12.0"
  }
 },
 "nbformat": 4,
 "nbformat_minor": 5
}
